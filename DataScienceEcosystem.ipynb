{
 "cells": [
  {
   "cell_type": "markdown",
   "id": "f2e5741f-5084-4b83-93af-887bc6c3d3cb",
   "metadata": {},
   "source": [
    "# Data Science Tools and Ecosystem"
   ]
  },
  {
   "cell_type": "markdown",
   "id": "d07eacc0-b8e6-442d-9fe6-dab9b2f798ca",
   "metadata": {},
   "source": [
    "In this notebook, Data Science Tools and Ecosystem are summarized."
   ]
  },
  {
   "cell_type": "markdown",
   "id": "42a24bd1-c9e6-47c7-add2-f4e96965b2bd",
   "metadata": {},
   "source": [
    "## Author\n",
    "James Rice\n",
    "    \n",
    "\n",
    "**Objectives:**\n",
    "<ul>\n",
    "    <li>List Several Popular languages for DS</li>\n",
    "    <li>List Several Common DS Libraries</li>\n",
    "    <li>List Three Data Science Tools</li>"
   ]
  },
  {
   "cell_type": "markdown",
   "id": "9f49f132-fa06-4ce1-aff3-a6d64e287c6c",
   "metadata": {},
   "source": [
    "Some of the popular languages that Data Scientists use are:\n",
    "    <ol>\n",
    "    <li>Python</li>\n",
    "    <li>R</li>\n",
    "    <li>C++</li>\n",
    "    <li>Julia</li>\n",
    "    <li>SQL</li>\n"
   ]
  },
  {
   "cell_type": "markdown",
   "id": "0704643d-b8b8-458c-89f8-23fba5248d42",
   "metadata": {},
   "source": [
    "Some of the commonly used libraries used by Data Scientists include:\n",
    "<ol>\n",
    "<li>Pandas</li>\n",
    "<li>NumPy</li>\n",
    "<li>Scikit-Learn</li>\n",
    "<li>Matplotlib and Seaborn</li>\n",
    "<li>SciPy</li>\n",
    "<li>TensorFlow</li>\n",
    "<li>PyTorch</li>"
   ]
  },
  {
   "cell_type": "markdown",
   "id": "b52c7c39-e41e-4bb6-bba0-53da85963783",
   "metadata": {},
   "source": [
    "| Data Science Tools |\n",
    "|:--------:|\n",
    "| Jupyter Notebook/Lab  |\n",
    "|  R Studio   |\n",
    "|  Spyder   |"
   ]
  },
  {
   "cell_type": "markdown",
   "id": "be588bc3-cea6-4c5f-a779-0fb58e87e4c6",
   "metadata": {},
   "source": [
    "### Below are a few examples of evaluating arithmetic expressions in Python\n",
    "Below are a few examples of evaluating arithmetic expressions in Python"
   ]
  },
  {
   "cell_type": "code",
   "execution_count": 1,
   "id": "1bebf30e-406b-48bd-bb26-daef5b212c2f",
   "metadata": {
    "tags": []
   },
   "outputs": [
    {
     "data": {
      "text/plain": [
       "17"
      ]
     },
     "execution_count": 1,
     "metadata": {},
     "output_type": "execute_result"
    }
   ],
   "source": [
    "(3*4)+5"
   ]
  },
  {
   "cell_type": "code",
   "execution_count": 2,
   "id": "4f5cfb3f-eb0b-4f6e-9b5e-9cf26f119a7d",
   "metadata": {
    "tags": []
   },
   "outputs": [
    {
     "data": {
      "text/plain": [
       "3.3333333333333335"
      ]
     },
     "execution_count": 2,
     "metadata": {},
     "output_type": "execute_result"
    }
   ],
   "source": [
    "#This will convert 200 minutes to hours by diving by 60\n",
    "\n",
    "200/60"
   ]
  },
  {
   "cell_type": "code",
   "execution_count": null,
   "id": "31d90dae-31b9-4fe7-ac98-2457afc5a454",
   "metadata": {},
   "outputs": [],
   "source": []
  }
 ],
 "metadata": {
  "kernelspec": {
   "display_name": "Python 3 (ipykernel)",
   "language": "python",
   "name": "python3"
  },
  "language_info": {
   "codemirror_mode": {
    "name": "ipython",
    "version": 3
   },
   "file_extension": ".py",
   "mimetype": "text/x-python",
   "name": "python",
   "nbconvert_exporter": "python",
   "pygments_lexer": "ipython3",
   "version": "3.11.5"
  }
 },
 "nbformat": 4,
 "nbformat_minor": 5
}
